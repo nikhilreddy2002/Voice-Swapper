{
 "cells": [
  {
   "cell_type": "code",
   "execution_count": 1,
   "metadata": {},
   "outputs": [],
   "source": [
    "import torch.nn as nn\n",
    "import torch.nn.functional as F\n",
    "import torch\n",
    "from librosa.filters import mel as librosa_mel_fn\n",
    "from torch.nn.utils import weight_norm\n",
    "import numpy as np\n",
    "from pathlib import Path\n",
    "import yaml\n",
    "import torch\n",
    "import os\n",
    "from librosa.core import load\n",
    "from librosa.util import normalize\n",
    "import random\n",
    "from scipy.io.wavfile import write\n",
    "import matplotlib.pyplot as plt"
   ]
  },
  {
   "cell_type": "code",
   "execution_count": null,
   "metadata": {},
   "outputs": [],
   "source": []
  }
 ],
 "metadata": {
  "kernelspec": {
   "display_name": "base",
   "language": "python",
   "name": "python3"
  },
  "language_info": {
   "codemirror_mode": {
    "name": "ipython",
    "version": 3
   },
   "file_extension": ".py",
   "mimetype": "text/x-python",
   "name": "python",
   "nbconvert_exporter": "python",
   "pygments_lexer": "ipython3",
   "version": "3.9.13"
  },
  "orig_nbformat": 4,
  "vscode": {
   "interpreter": {
    "hash": "0a77c10386953d7aa1ee55a26f0f5ac1b4e5dd001f8ebf81b7231e3a892c2cef"
   }
  }
 },
 "nbformat": 4,
 "nbformat_minor": 2
}
